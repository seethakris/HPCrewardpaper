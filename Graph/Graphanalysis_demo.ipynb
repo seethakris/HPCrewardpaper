{
 "cells": [
  {
   "cell_type": "code",
   "execution_count": 1,
   "metadata": {},
   "outputs": [],
   "source": [
    "# general imports\n",
    "import numpy as np\n",
    "import scipy.io as sio\n",
    "import math\n",
    "import copy\n",
    "import sys\n",
    "import glob\n",
    "import os\n",
    "import matplotlib.pyplot as plt\n",
    "from collections import defaultdict\n",
    "import itertools\n",
    "import pandas as pd\n",
    "from scipy import stats\n",
    "\n",
    "# some aesthetic stuff\n",
    "import matplotlib as mpl\n",
    "import seaborn as sns\n",
    "\n",
    "# networkx + associated functions\n",
    "import networkx as nx\n",
    "from networkx.algorithms.centrality import degree_centrality, eigenvector_centrality, betweenness_centrality\n",
    "from networkx.algorithms.community import greedy_modularity_communities, girvan_newman\n",
    "import community\n",
    "\n",
    "# importing our code\n",
    "from utilities           import *\n",
    "from graph_generation    import *\n",
    "from graph_randomization import *\n",
    "from graph_analysis      import *\n",
    "\n",
    "N_NODES = 380"
   ]
  },
  {
   "cell_type": "code",
   "execution_count": 2,
   "metadata": {},
   "outputs": [],
   "source": [
    "#Load data\n",
    "Reward = np.load('AdjacencyMatrix_Reward_CFC18.npy')"
   ]
  },
  {
   "cell_type": "code",
   "execution_count": 3,
   "metadata": {},
   "outputs": [],
   "source": [
    "names = ['greedy_modularity']\n",
    "methods = [greedy_modularity_communities]\n",
    "args   = [{'weight':0.1}]\n",
    "community_mat = compute_community_assignments(Reward, names=names, methods=methods, args=args)"
   ]
  },
  {
   "cell_type": "code",
   "execution_count": null,
   "metadata": {},
   "outputs": [],
   "source": []
  }
 ],
 "metadata": {
  "kernelspec": {
   "display_name": "Python 3",
   "language": "python",
   "name": "python3"
  },
  "language_info": {
   "codemirror_mode": {
    "name": "ipython",
    "version": 3
   },
   "file_extension": ".py",
   "mimetype": "text/x-python",
   "name": "python",
   "nbconvert_exporter": "python",
   "pygments_lexer": "ipython3",
   "version": "3.7.6"
  },
  "toc": {
   "base_numbering": 1,
   "nav_menu": {},
   "number_sections": true,
   "sideBar": true,
   "skip_h1_title": false,
   "title_cell": "Table of Contents",
   "title_sidebar": "Contents",
   "toc_cell": false,
   "toc_position": {},
   "toc_section_display": true,
   "toc_window_display": false
  }
 },
 "nbformat": 4,
 "nbformat_minor": 4
}
